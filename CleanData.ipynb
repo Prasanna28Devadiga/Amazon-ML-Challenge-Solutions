{
  "nbformat": 4,
  "nbformat_minor": 0,
  "metadata": {
    "colab": {
      "name": "CleanData.ipynb",
      "provenance": []
    },
    "kernelspec": {
      "display_name": "Python 3",
      "name": "python3"
    },
    "language_info": {
      "name": "python"
    }
  },
  "cells": [
    {
      "cell_type": "code",
      "metadata": {
        "colab": {
          "base_uri": "https://localhost:8080/"
        },
        "id": "t2keLBomTu8v",
        "outputId": "a1566324-82b0-4b06-a716-1b16aba6d129"
      },
      "source": [
        "import re\n",
        "s=\"Teacher Planner Company A4 6 /Lesson' () (Academic)\"\n",
        "pattern = r'[0-9+*()&%@/.:-]'\n",
        "\n",
        "new_string = re.sub(pattern, '', s)\n",
        "new_string=re.sub(pattern,'',new_string)\n",
        "print(new_string)\n"
      ],
      "execution_count": null,
      "outputs": [
        {
          "output_type": "stream",
          "text": [
            "Teacher Planner Company A  Lesson'  Academic\n"
          ],
          "name": "stdout"
        }
      ]
    },
    {
      "cell_type": "code",
      "metadata": {
        "id": "6vcyWPZXbApk"
      },
      "source": [
        "empty_list=[]\n",
        "file = open(r\"/content/drive/MyDrive/Amazon/without_stopwords.txt\",\"r+\")\n",
        "for i in file:\n",
        "  l=re.sub(pattern,'',i)\n",
        "  empty_list.append(l)\n",
        "\n",
        "with open('file1.txt','w+') as f:\n",
        "\tfor i in empty_list:\n",
        "\t\tf.write(i)"
      ],
      "execution_count": null,
      "outputs": []
    },
    {
      "cell_type": "code",
      "metadata": {
        "id": "o9KvF8Ese-aa"
      },
      "source": [
        ""
      ],
      "execution_count": null,
      "outputs": []
    }
  ]
}